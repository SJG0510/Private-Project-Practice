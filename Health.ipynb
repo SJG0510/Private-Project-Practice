{
  "nbformat": 4,
  "nbformat_minor": 0,
  "metadata": {
    "colab": {
      "provenance": [],
      "include_colab_link": true
    },
    "kernelspec": {
      "name": "python3",
      "display_name": "Python 3"
    },
    "language_info": {
      "name": "python"
    }
  },
  "cells": [
    {
      "cell_type": "markdown",
      "metadata": {
        "id": "view-in-github",
        "colab_type": "text"
      },
      "source": [
        "<a href=\"https://colab.research.google.com/github/SJG0510/Private-Project-Practice/blob/main/Health.ipynb\" target=\"_parent\"><img src=\"https://colab.research.google.com/assets/colab-badge.svg\" alt=\"Open In Colab\"/></a>"
      ]
    },
    {
      "cell_type": "code",
      "source": [
        "# 데이터 로드 및 전처리\n",
        "import pandas as pd\n",
        "import urllib.parse\n",
        "import re\n",
        "\n",
        "# GitHub raw 파일 기본 경로\n",
        "base_url = \"https://raw.githubusercontent.com/SJG0510/Private-Project-Practice/data/\"\n",
        "file_name = '시도_현재흡연.csv'\n",
        "file_name2 = '시도_고위험음주csv'\n",
        "url = base_url + urllib.parse.quote(file_name)\n",
        "\n",
        "# 데이터 로드 (utf-8-sig → cp949 순으로 시도)\n",
        "try:\n",
        "    df_raw = pd.read_csv(url, encoding='utf-8-sig')\n",
        "except UnicodeDecodeError:\n",
        "    df_raw = pd.read_csv(url, encoding='cp949')\n",
        "\n",
        "# '95% CI' 컬럼 제거\n",
        "if '95% CI' in df_raw.columns:\n",
        "    df_raw.drop(columns=['95% CI'], inplace=True)\n",
        "\n",
        "# 연도 컬럼(2008~2024)만 골라내기\n",
        "year_cols = [c for c in df_raw.columns if re.match(r\"^\\d{4}$\", c)]\n",
        "\n",
        "# 숫자+소수점만 뽑아 float로 변환하는 헬퍼 함수\n",
        "def to_numeric(val):\n",
        "    if pd.isna(val):\n",
        "        return None\n",
        "    nums = re.findall(r\"[-+]?\\d*\\.\\d+|\\d+\", str(val))\n",
        "    return float(nums[0]) if nums else None\n",
        "\n",
        "# ‘전체’, ‘남/여’, ‘연령대’별로 따로 떼어놓기\n",
        "전체_df = df_raw[df_raw.iloc[:,1] == '전체'].copy()\n",
        "성별_df = df_raw[df_raw.iloc[:,1].isin(['남','여'])].copy()\n",
        "연령_df = df_raw[df_raw.iloc[:,1].isin(['19-29','30-39','40-49','50-59','60-69','70이상'])].copy()\n",
        "\n",
        "# 연도별 컬럼을 to_numeric으로 모두 변환하고, 컬럼명 통일 및 인덱스 리셋\n",
        "for D in (전체_df, 성별_df, 연령_df):\n",
        "    # 숫자 변환\n",
        "    for y in year_cols:\n",
        "        D[y] = D[y].apply(to_numeric)\n",
        "    # 첫 두 컬럼을 '시도', '구분'으로 이름 바꾸기\n",
        "    D.rename(columns={ D.columns[0]: '시도', D.columns[1]: '구분' }, inplace=True)\n",
        "    D.reset_index(drop=True, inplace=True)\n",
        "\n",
        "print(\"✅ 셀1 완료: 전체_df, 성별_df, 연령_df 준비됨\")\n",
        "print(\"연도 컬럼:\", year_cols)"
      ],
      "metadata": {
        "colab": {
          "base_uri": "https://localhost:8080/"
        },
        "id": "nVZDMtMcT34w",
        "outputId": "9e2d2b0d-b2a1-4e25-daa4-b3f8a02075ab"
      },
      "execution_count": 21,
      "outputs": [
        {
          "output_type": "stream",
          "name": "stdout",
          "text": [
            "✅ 셀1 완료: 전체_df, 성별_df, 연령_df 준비됨\n",
            "연도 컬럼: ['2008', '2009', '2010', '2011', '2012', '2013', '2014', '2015', '2016', '2017', '2018', '2019', '2020', '2021', '2022', '2023', '2024']\n"
          ]
        }
      ]
    },
    {
      "cell_type": "code",
      "source": [
        "# 모델 학습·예측 함수\n",
        "import numpy as np\n",
        "from sklearn.linear_model import LinearRegression\n",
        "\n",
        "def train_linear_regression(X, y):\n",
        "    model = LinearRegression()\n",
        "    model.fit(X, y)\n",
        "    return model\n",
        "\n",
        "def predict_future(model, last_year, predict_years=2):\n",
        "    future_years = np.arange(last_year + 1, last_year + 1 + predict_years).reshape(-1, 1)\n",
        "    preds = model.predict(future_years)\n",
        "    return future_years.flatten(), preds\n",
        "\n",
        "def fit_region_category(region, category):\n",
        "    \"\"\"\n",
        "    region: 시도명 (예: '서울특별시')\n",
        "    category: '전체', '남', '여', '19-29', ..., '70이상'\n",
        "    \"\"\"\n",
        "    if category == '전체':\n",
        "        df = 전체_df\n",
        "    elif category in ['남', '여']:\n",
        "        df = 성별_df\n",
        "    else:\n",
        "        df = 연령_df\n",
        "\n",
        "    sub = df[(df['시도'] == region) & (df['구분'] == category)]\n",
        "    if sub.empty:\n",
        "        return None, None, None\n",
        "\n",
        "    X = np.array([int(y) for y in year_cols]).reshape(-1, 1)\n",
        "    y = sub.loc[:, year_cols].values.flatten()\n",
        "\n",
        "    model = train_linear_regression(X, y)\n",
        "    return model, X.flatten(), y\n",
        "\n",
        "print(\" 완료: 모델 학습·예측 함수 정의됨\")\n"
      ],
      "metadata": {
        "colab": {
          "base_uri": "https://localhost:8080/"
        },
        "id": "3n6oG5-TT9Kw",
        "outputId": "191c88f0-3df4-484a-8b66-597d5c04014f"
      },
      "execution_count": 23,
      "outputs": [
        {
          "output_type": "stream",
          "name": "stdout",
          "text": [
            " 완료: 모델 학습·예측 함수 정의됨\n"
          ]
        }
      ]
    },
    {
      "cell_type": "code",
      "source": [
        "# 셀3: 특정 region-category 실제값 출력 함수\n",
        "def show_region_category_data(region, category):\n",
        "    \"\"\"\n",
        "    region: 시도명 (예: '서울')\n",
        "    category: '전체', '남', '여', '19-29', ..., '70이상'\n",
        "    \"\"\"\n",
        "    # 카테고리별로 사용할 DataFrame 선택\n",
        "    if category == '전체':\n",
        "        df = 전체_df\n",
        "    elif category in ['남', '여']:\n",
        "        df = 성별_df\n",
        "    else:\n",
        "        df = 연령_df\n",
        "\n",
        "    # 필터링: 시도 == region AND 구분 == category\n",
        "    sub = df[(df['시도'] == region) & (df['구분'] == category)]\n",
        "    if sub.empty:\n",
        "        print(f\"No data for {region} – {category}.\")\n",
        "        return\n",
        "\n",
        "    # 출력\n",
        "    print(f\"\\n▶ {region} – {category} Actual Smoking Rates (2008–2024):\")\n",
        "    display_cols = ['시도', '구분'] + year_cols\n",
        "    print(sub[display_cols].to_string(index=False))\n",
        "\n",
        "# 예시 호출\n",
        "show_region_category_data('서울', '여')"
      ],
      "metadata": {
        "colab": {
          "base_uri": "https://localhost:8080/"
        },
        "id": "JgOMYW_Eag61",
        "outputId": "e49f34a9-4af0-487c-91d6-4438291556ab"
      },
      "execution_count": 27,
      "outputs": [
        {
          "output_type": "stream",
          "name": "stdout",
          "text": [
            "\n",
            "▶ 서울 – 여 Actual Smoking Rates (2008–2024):\n",
            "시도 구분  2008  2009  2010  2011  2012  2013  2014  2015  2016  2017  2018  2019  2020  2021  2022  2023  2024\n",
            "서울  여   3.7   4.0   3.6   3.5   3.7   3.7   3.4   3.4   3.4   3.3   3.6   3.5   3.0   2.7   3.5   4.0   3.9\n"
          ]
        }
      ]
    },
    {
      "cell_type": "code",
      "source": [
        "# 셀4: 인터랙티브 예측 및 시각화 (영어 레이블, xticks 커스터마이징)\n",
        "import matplotlib.pyplot as plt\n",
        "\n",
        "# 1) 사용 가능한 지역 및 카테고리 목록 불러오기\n",
        "regions    = 전체_df['시도'].unique()\n",
        "categories = ['전체','남','여','19-29','30-39','40-49','50-59','60-69','70이상']\n",
        "\n",
        "print(\"Available regions:\", \", \".join(regions))\n",
        "print(\"Available categories:\", \", \".join(categories))\n",
        "\n",
        "# 2) 사용자로부터 입력 받기\n",
        "region    = input(\"Enter region: \").strip()\n",
        "cat_input = input(\"Enter category (comma separated): \")\n",
        "chosen    = [c.strip() for c in cat_input.split(',')]\n",
        "\n",
        "for cat in chosen:\n",
        "    # 실제 데이터 출력\n",
        "    show_region_category_data(region, cat)\n",
        "\n",
        "    # 모델 학습 및 예측\n",
        "    model, years, rates = fit_region_category(region, cat)\n",
        "    if model is None:\n",
        "        print(f\"[{region} - {cat}] No data available.\\n\")\n",
        "        continue\n",
        "\n",
        "    # 마지막 연도와 예측 결과 계산\n",
        "    last_year             = years[-1]\n",
        "    pred_years, pred_rates = predict_future(model, last_year, predict_years=2)\n",
        "\n",
        "    # 결과 콘솔 출력\n",
        "    print(f\"\\n[{region} - {cat}] Years:       {years}\")\n",
        "    print(f\"[{region} - {cat}] Actual:      {rates}\")\n",
        "    print(f\"[{region} - {cat}] Predicted Y: {pred_years}\")\n",
        "    print(f\"[{region} - {cat}] Predicted:   {pred_rates}\\n\")\n",
        "\n",
        "    # 과거 데이터는 2년 단위로, 예측은 연도 모두 표시\n",
        "    plt.figure(figsize=(8,4))\n",
        "    plt.plot(years,      rates,      'o-', label='Actual')\n",
        "    plt.plot(pred_years, pred_rates, 'x--', label='Predicted')\n",
        "\n",
        "    # 2008~2024까지 2년마다, + 2025, 2026\n",
        "    hist_ticks = list(range(2008, 2025, 2))\n",
        "    ticks      = hist_ticks + pred_years.tolist()\n",
        "    labels     = [str(y) for y in hist_ticks] + [str(int(y)) for y in pred_years]\n",
        "\n",
        "    plt.xticks(ticks, labels)\n",
        "    plt.title(f\"Smoking Rate Prediction\")\n",
        "    plt.xlabel(\"Year\")\n",
        "    plt.ylabel(\"Smoking Rate (%)\")\n",
        "    plt.legend()\n",
        "    plt.grid(True)\n",
        "    plt.tight_layout()\n",
        "    plt.show()"
      ],
      "metadata": {
        "colab": {
          "base_uri": "https://localhost:8080/",
          "height": 706
        },
        "id": "qt8AMz1fauM8",
        "outputId": "36a638db-1666-46f3-89b8-bb85389dc466"
      },
      "execution_count": 34,
      "outputs": [
        {
          "output_type": "stream",
          "name": "stdout",
          "text": [
            "Available regions: 서울, 부산, 대구, 인천, 광주, 대전, 울산, 세종, 경기, 강원, 충북, 충남, 전북, 전남, 경북, 경남, 제주\n",
            "Available categories: 전체, 남, 여, 19-29, 30-39, 40-49, 50-59, 60-69, 70이상\n",
            "Enter region: 제주\n",
            "Enter category (comma separated): 전체\n",
            "\n",
            "▶ 제주 – 전체 Actual Smoking Rates (2008–2024):\n",
            "시도 구분  2008  2009  2010  2011  2012  2013  2014  2015  2016  2017  2018  2019  2020  2021  2022  2023  2024\n",
            "제주 전체  26.5  27.5  26.4  26.7  24.9  25.0  23.9  20.8  25.3  22.0  21.3  20.0  18.1  19.1  20.8  18.6  19.2\n",
            "\n",
            "[제주 - 전체] Years:       [2008 2009 2010 2011 2012 2013 2014 2015 2016 2017 2018 2019 2020 2021\n",
            " 2022 2023 2024]\n",
            "[제주 - 전체] Actual:      [26.5 27.5 26.4 26.7 24.9 25.  23.9 20.8 25.3 22.  21.3 20.  18.1 19.1\n",
            " 20.8 18.6 19.2]\n",
            "[제주 - 전체] Predicted Y: [2025 2026]\n",
            "[제주 - 전체] Predicted:   [17.45073529 16.86617647]\n",
            "\n"
          ]
        },
        {
          "output_type": "display_data",
          "data": {
            "text/plain": [
              "<Figure size 800x400 with 1 Axes>"
            ],
            "image/png": "[encoded data removed]"
          },
          "metadata": {}
        }
      ]
    }
  ]
}